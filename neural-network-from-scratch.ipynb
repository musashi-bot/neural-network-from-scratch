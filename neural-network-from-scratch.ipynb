{
  "metadata": {
    "kernelspec": {
      "language": "python",
      "display_name": "Python 3",
      "name": "python3"
    },
    "language_info": {
      "name": "python",
      "version": "3.11.11",
      "mimetype": "text/x-python",
      "codemirror_mode": {
        "name": "ipython",
        "version": 3
      },
      "pygments_lexer": "ipython3",
      "nbconvert_exporter": "python",
      "file_extension": ".py"
    },
    "kaggle": {
      "accelerator": "none",
      "dataSources": [
        {
          "sourceId": 3004,
          "databundleVersionId": 861823,
          "sourceType": "competition"
        }
      ],
      "dockerImageVersionId": 31040,
      "isInternetEnabled": false,
      "language": "python",
      "sourceType": "notebook",
      "isGpuEnabled": false
    },
    "colab": {
      "provenance": []
    }
  },
  "nbformat_minor": 0,
  "nbformat": 4,
  "cells": [
    {
      "cell_type": "code",
      "source": [
        "import numpy as np\n",
        "import pandas as pd\n",
        "from matplotlib import pyplot as plt\n",
        "\n",
        "data = pd.read_csv('/kaggle/input/digit-recognizer/train.csv')\n",
        "print(data.head())\n",
        "data=np.array(data)\n",
        "np.random.shuffle(data)\n",
        "train_set=data[:33600,]\n",
        "print(train_set.shape)\n",
        "test_set=data[33600:,]\n",
        "print(test_set.shape)\n"
      ],
      "metadata": {
        "_uuid": "8f2839f25d086af736a60e9eeb907d3b93b6e0e5",
        "_cell_guid": "b1076dfc-b9ad-4769-8c92-a6c4dae69d19",
        "trusted": true,
        "execution": {
          "iopub.status.busy": "2025-05-24T20:59:25.942508Z",
          "iopub.execute_input": "2025-05-24T20:59:25.942823Z",
          "iopub.status.idle": "2025-05-24T20:59:28.915857Z",
          "shell.execute_reply.started": "2025-05-24T20:59:25.942801Z",
          "shell.execute_reply": "2025-05-24T20:59:28.914934Z"
        },
        "id": "2HI3kSSZUBEm",
        "outputId": "f4bb5ae1-fe58-41f2-b586-447bd937c0af"
      },
      "outputs": [
        {
          "name": "stdout",
          "text": "   label  pixel0  pixel1  pixel2  pixel3  pixel4  pixel5  pixel6  pixel7  \\\n0      1       0       0       0       0       0       0       0       0   \n1      0       0       0       0       0       0       0       0       0   \n2      1       0       0       0       0       0       0       0       0   \n3      4       0       0       0       0       0       0       0       0   \n4      0       0       0       0       0       0       0       0       0   \n\n   pixel8  ...  pixel774  pixel775  pixel776  pixel777  pixel778  pixel779  \\\n0       0  ...         0         0         0         0         0         0   \n1       0  ...         0         0         0         0         0         0   \n2       0  ...         0         0         0         0         0         0   \n3       0  ...         0         0         0         0         0         0   \n4       0  ...         0         0         0         0         0         0   \n\n   pixel780  pixel781  pixel782  pixel783  \n0         0         0         0         0  \n1         0         0         0         0  \n2         0         0         0         0  \n3         0         0         0         0  \n4         0         0         0         0  \n\n[5 rows x 785 columns]\n(33600, 785)\n(8400, 785)\n",
          "output_type": "stream"
        }
      ],
      "execution_count": null
    },
    {
      "cell_type": "code",
      "source": [
        "def one_hot(Y):                                   #one hot coding for labels\n",
        "    one_hot_Y = np.zeros((Y.size, Y.max() + 1))\n",
        "    one_hot_Y[np.arange(Y.size), Y] = 1\n",
        "    one_hot_Y = one_hot_Y.T\n",
        "    return one_hot_Y\n",
        "\n",
        "x_train=train_set[:,1:].T\n",
        "print(x_train.shape)\n",
        "x_train = x_train / 255.0\n",
        "\n",
        "y_train=train_set[:,:1].T\n",
        "y_coded=one_hot(y_train)\n",
        "print(y_coded[:,60])\n",
        "print(y_train[:,60])\n",
        "m=33600"
      ],
      "metadata": {
        "trusted": true,
        "execution": {
          "iopub.status.busy": "2025-05-24T20:59:28.917232Z",
          "iopub.execute_input": "2025-05-24T20:59:28.917559Z",
          "iopub.status.idle": "2025-05-24T20:59:29.042019Z",
          "shell.execute_reply.started": "2025-05-24T20:59:28.917538Z",
          "shell.execute_reply": "2025-05-24T20:59:29.041067Z"
        },
        "id": "MHh8Gg7CUBEp",
        "outputId": "092f8538-4e20-47b6-ade4-27ac268f268d"
      },
      "outputs": [
        {
          "name": "stdout",
          "text": "(784, 33600)\n[0. 0. 0. 0. 0. 1. 0. 0. 0. 0.]\n[5]\n",
          "output_type": "stream"
        }
      ],
      "execution_count": null
    },
    {
      "cell_type": "code",
      "source": [
        "y_coded.shape"
      ],
      "metadata": {
        "trusted": true,
        "execution": {
          "iopub.status.busy": "2025-05-24T20:59:29.042899Z",
          "iopub.execute_input": "2025-05-24T20:59:29.043213Z",
          "iopub.status.idle": "2025-05-24T20:59:29.049099Z",
          "shell.execute_reply.started": "2025-05-24T20:59:29.043191Z",
          "shell.execute_reply": "2025-05-24T20:59:29.048314Z"
        },
        "id": "2bExeVWDUBEq",
        "outputId": "5de4f4f6-9aef-43e5-9ccf-a655f764d451"
      },
      "outputs": [
        {
          "execution_count": 22,
          "output_type": "execute_result",
          "data": {
            "text/plain": "(10, 33600)"
          },
          "metadata": {}
        }
      ],
      "execution_count": null
    },
    {
      "cell_type": "code",
      "source": [
        "def init_parameters():\n",
        "    w1=np.random.randn(10, 784) * np.sqrt(2 / 784)\n",
        "    b1=np.random.rand(10,1)-0.5\n",
        "    w2=np.random.randn(10, 10) * np.sqrt(2 / 10)\n",
        "    b2=np.random.rand(10,1)-0.5\n",
        "    w3=np.random.randn(10, 10) * np.sqrt(2 /10)\n",
        "    b3=np.random.rand(10,1)-0.5\n",
        "    return w1,b1,w2,b2,w3,b3\n",
        "\n",
        "def reLU(z):\n",
        "    return np.maximum(z,0)\n",
        "\n",
        "def softmax(Z):\n",
        "    expZ = np.exp(Z - np.max(Z, axis=0, keepdims=True))  # prevent overflow\n",
        "    return expZ / np.sum(expZ, axis=0, keepdims=True)\n",
        "\n",
        "\n",
        "\n",
        "def get_prediction(y_hat):\n",
        "    return np.argmax(y_hat,axis=0)\n",
        "\n",
        "def forward_prop(w1,b1,w2,b2,w3,b3,X):\n",
        "    z1=w1.dot(X)+b1\n",
        "    a1=reLU(z1)\n",
        "    z2=w2.dot(a1)+b2\n",
        "    a2=reLU(z2)\n",
        "    z3=w3.dot(a2)+b3\n",
        "    y_hat=softmax(z3)\n",
        "    return z1,a1,z2,a2,z3,y_hat\n",
        "\n",
        "def reLU_diff(z):\n",
        "    return z>0\n",
        "\n",
        "def back_prop(w1,b1,w2,b2,w3,b3,z1,z2,z3,a1,a2,y_hat,X,Y):\n",
        "    m=X.shape[1]\n",
        "    dz3=y_hat-Y\n",
        "    dw3=(1/m)*(dz3.dot(a2.T))\n",
        "    db3=(1/m)*(np.sum(dz3,axis=1).reshape(-1,1))\n",
        "\n",
        "    dz2=(w3.T).dot(dz3)*(reLU_diff(z2))\n",
        "    dw2=(1/m)*(dz2.dot(a1.T))\n",
        "    db2=(1/m)*(np.sum(dz2,axis=1).reshape(-1,1))\n",
        "\n",
        "    dz1=(w2.T).dot(dz2)*(reLU_diff(z1))\n",
        "    dw1=(1/m)*(dz1.dot(X.T))\n",
        "    db1=(1/m)*(np.sum(dz1,axis=1).reshape(-1,1))\n",
        "\n",
        "    return dw3,db3,dw2,db2,dw1,db1\n",
        "\n",
        "def update(w1,b1,w2,b2,w3,b3,dw3,db3,dw2,db2,dw1,db1,alpha):\n",
        "    w1=w1-alpha*dw1\n",
        "    b1=b1-alpha*db1\n",
        "\n",
        "    w2=w2-alpha*dw2\n",
        "    b2=b2-alpha*db2\n",
        "\n",
        "    w3=w3-alpha*dw3\n",
        "    b3=b3-alpha*db3\n",
        "\n",
        "    return w1,b1,w2,b2,w3,b3\n",
        "\n",
        "def get_accuracy(pred,y):\n",
        "    return np.sum(pred==y)/y.size\n",
        "\n",
        "def gradient_descent(x,y,alpha,epochs):\n",
        "    y_coded = one_hot(y.flatten())\n",
        "\n",
        "    w1,b1,w2,b2,w3,b3=init_parameters()\n",
        "    for i in range(epochs):\n",
        "        z1,a1,z2,a2,z3,y_hat=forward_prop(w1,b1,w2,b2,w3,b3,x)\n",
        "        dw3,db3,dw2,db2,dw1,db1=back_prop(w1,b1,w2,b2,w3,b3,z1,z2,z3,a1,a2,y_hat,x,y_coded)\n",
        "        w1,b1,w2,b2,w3,b3=update(w1,b1,w2,b2,w3,b3,dw3,db3,dw2,db2,dw1,db1,alpha)\n",
        "        if(i%20==0):\n",
        "            print(\"Iteration no : \",i)\n",
        "            pred=get_prediction(y_hat)\n",
        "            accuracy=get_accuracy(pred,y.flatten())*100\n",
        "            print(\"accuracy : \",accuracy)\n",
        "\n",
        "    return w1,b1,w2,b2,w3,b3\n",
        "\n",
        "\n",
        ""
      ],
      "metadata": {
        "trusted": true,
        "execution": {
          "iopub.status.busy": "2025-05-24T20:59:29.051105Z",
          "iopub.execute_input": "2025-05-24T20:59:29.051394Z",
          "iopub.status.idle": "2025-05-24T20:59:29.069213Z",
          "shell.execute_reply.started": "2025-05-24T20:59:29.051364Z",
          "shell.execute_reply": "2025-05-24T20:59:29.068110Z"
        },
        "id": "dEliL8y7UBEr"
      },
      "outputs": [],
      "execution_count": null
    },
    {
      "cell_type": "code",
      "source": [
        "w1,b1,w2,b2,w3,b3=gradient_descent(x_train,y_train,0.05,2000)"
      ],
      "metadata": {
        "trusted": true,
        "execution": {
          "iopub.status.busy": "2025-05-24T20:59:29.070147Z",
          "iopub.execute_input": "2025-05-24T20:59:29.070556Z",
          "iopub.status.idle": "2025-05-24T21:01:49.992824Z",
          "shell.execute_reply.started": "2025-05-24T20:59:29.070523Z",
          "shell.execute_reply": "2025-05-24T21:01:49.991872Z"
        },
        "id": "6ybhk8LCUBEr",
        "outputId": "d35f4593-be82-489f-80ea-e029fc34bb04"
      },
      "outputs": [
        {
          "name": "stdout",
          "text": "Iteration no :  0\naccuracy :  10.613095238095237\nIteration no :  20\naccuracy :  20.241071428571427\nIteration no :  40\naccuracy :  34.23809523809524\nIteration no :  60\naccuracy :  60.20833333333333\nIteration no :  80\naccuracy :  68.6577380952381\nIteration no :  100\naccuracy :  73.09523809523809\nIteration no :  120\naccuracy :  76.08035714285715\nIteration no :  140\naccuracy :  78.33333333333333\nIteration no :  160\naccuracy :  79.92857142857143\nIteration no :  180\naccuracy :  81.08928571428572\nIteration no :  200\naccuracy :  82.10714285714286\nIteration no :  220\naccuracy :  83.14285714285714\nIteration no :  240\naccuracy :  83.90773809523809\nIteration no :  260\naccuracy :  84.46428571428571\nIteration no :  280\naccuracy :  85.05059523809524\nIteration no :  300\naccuracy :  85.59821428571428\nIteration no :  320\naccuracy :  85.98809523809524\nIteration no :  340\naccuracy :  86.42857142857143\nIteration no :  360\naccuracy :  86.81547619047619\nIteration no :  380\naccuracy :  87.13392857142857\nIteration no :  400\naccuracy :  87.49404761904762\nIteration no :  420\naccuracy :  87.83035714285714\nIteration no :  440\naccuracy :  88.11309523809524\nIteration no :  460\naccuracy :  88.36904761904762\nIteration no :  480\naccuracy :  88.66964285714286\nIteration no :  500\naccuracy :  88.9077380952381\nIteration no :  520\naccuracy :  89.10416666666666\nIteration no :  540\naccuracy :  89.25\nIteration no :  560\naccuracy :  89.38392857142857\nIteration no :  580\naccuracy :  89.55952380952381\nIteration no :  600\naccuracy :  89.73809523809524\nIteration no :  620\naccuracy :  89.86904761904762\nIteration no :  640\naccuracy :  90.02678571428572\nIteration no :  660\naccuracy :  90.13392857142857\nIteration no :  680\naccuracy :  90.2797619047619\nIteration no :  700\naccuracy :  90.41964285714286\nIteration no :  720\naccuracy :  90.55059523809523\nIteration no :  740\naccuracy :  90.64880952380953\nIteration no :  760\naccuracy :  90.7172619047619\nIteration no :  780\naccuracy :  90.79166666666667\nIteration no :  800\naccuracy :  90.86607142857143\nIteration no :  820\naccuracy :  90.91964285714286\nIteration no :  840\naccuracy :  91.0\nIteration no :  860\naccuracy :  91.08035714285714\nIteration no :  880\naccuracy :  91.15178571428572\nIteration no :  900\naccuracy :  91.20833333333334\nIteration no :  920\naccuracy :  91.30059523809524\nIteration no :  940\naccuracy :  91.3422619047619\nIteration no :  960\naccuracy :  91.41964285714286\nIteration no :  980\naccuracy :  91.48809523809524\nIteration no :  1000\naccuracy :  91.55952380952381\nIteration no :  1020\naccuracy :  91.57142857142857\nIteration no :  1040\naccuracy :  91.60119047619048\nIteration no :  1060\naccuracy :  91.66071428571428\nIteration no :  1080\naccuracy :  91.68452380952381\nIteration no :  1100\naccuracy :  91.72023809523809\nIteration no :  1120\naccuracy :  91.78273809523809\nIteration no :  1140\naccuracy :  91.83035714285714\nIteration no :  1160\naccuracy :  91.875\nIteration no :  1180\naccuracy :  91.91964285714286\nIteration no :  1200\naccuracy :  91.96726190476191\nIteration no :  1220\naccuracy :  92.01785714285714\nIteration no :  1240\naccuracy :  92.05654761904762\nIteration no :  1260\naccuracy :  92.08035714285714\nIteration no :  1280\naccuracy :  92.11309523809523\nIteration no :  1300\naccuracy :  92.14583333333334\nIteration no :  1320\naccuracy :  92.17857142857143\nIteration no :  1340\naccuracy :  92.19940476190476\nIteration no :  1360\naccuracy :  92.24404761904762\nIteration no :  1380\naccuracy :  92.26488095238096\nIteration no :  1400\naccuracy :  92.28273809523809\nIteration no :  1420\naccuracy :  92.3125\nIteration no :  1440\naccuracy :  92.33630952380952\nIteration no :  1460\naccuracy :  92.37202380952381\nIteration no :  1480\naccuracy :  92.39880952380952\nIteration no :  1500\naccuracy :  92.42261904761905\nIteration no :  1520\naccuracy :  92.45833333333333\nIteration no :  1540\naccuracy :  92.49107142857143\nIteration no :  1560\naccuracy :  92.50297619047619\nIteration no :  1580\naccuracy :  92.52678571428572\nIteration no :  1600\naccuracy :  92.55952380952381\nIteration no :  1620\naccuracy :  92.58630952380953\nIteration no :  1640\naccuracy :  92.60714285714286\nIteration no :  1660\naccuracy :  92.65178571428572\nIteration no :  1680\naccuracy :  92.66666666666666\nIteration no :  1700\naccuracy :  92.67559523809524\nIteration no :  1720\naccuracy :  92.72619047619047\nIteration no :  1740\naccuracy :  92.74107142857143\nIteration no :  1760\naccuracy :  92.75297619047619\nIteration no :  1780\naccuracy :  92.7797619047619\nIteration no :  1800\naccuracy :  92.82142857142858\nIteration no :  1820\naccuracy :  92.84821428571428\nIteration no :  1840\naccuracy :  92.87202380952381\nIteration no :  1860\naccuracy :  92.88988095238095\nIteration no :  1880\naccuracy :  92.91071428571429\nIteration no :  1900\naccuracy :  92.93154761904762\nIteration no :  1920\naccuracy :  92.94940476190476\nIteration no :  1940\naccuracy :  92.96130952380952\nIteration no :  1960\naccuracy :  92.98511904761905\nIteration no :  1980\naccuracy :  93.01785714285714\n",
          "output_type": "stream"
        }
      ],
      "execution_count": null
    },
    {
      "cell_type": "code",
      "source": [
        "x_test = test_set[:,1:].T / 255.0\n",
        "y_test = test_set[:, :1].T\n",
        "z1,a1,z2,a2,z3,y_hat = forward_prop(w1,b1,w2,b2,w3,b3,x_test)\n",
        "pred_test = get_prediction(y_hat)\n",
        "acc_test = get_accuracy(pred_test, y_test)\n",
        "print(\"Test accuracy:\", acc_test * 100)\n"
      ],
      "metadata": {
        "trusted": true,
        "execution": {
          "iopub.status.busy": "2025-05-24T21:01:49.993967Z",
          "iopub.execute_input": "2025-05-24T21:01:49.994313Z",
          "iopub.status.idle": "2025-05-24T21:01:50.042522Z",
          "shell.execute_reply.started": "2025-05-24T21:01:49.994284Z",
          "shell.execute_reply": "2025-05-24T21:01:50.041711Z"
        },
        "id": "OH8nNlYEUBEs",
        "outputId": "4170a898-15a1-4c82-9c77-307651832979"
      },
      "outputs": [
        {
          "name": "stdout",
          "text": "Test accuracy: 92.46428571428571\n",
          "output_type": "stream"
        }
      ],
      "execution_count": null
    },
    {
      "cell_type": "code",
      "source": [
        "test_data = pd.read_csv('/kaggle/input/digit-recognizer/test.csv')\n",
        "x_test = np.array(test_data).T / 255.0  # Transpose and normalize\n",
        "*_, y_hat_test = forward_prop(w1, b1, w2, b2, w3, b3, x_test)\n",
        "predictions = np.array(get_prediction(y_hat_test))\n",
        "\n",
        "\n",
        "submission = pd.DataFrame({\n",
        "    \"ImageId\": np.arange(1, len(predictions) + 1),\n",
        "    \"Label\": predictions\n",
        "})\n",
        "\n",
        "\n",
        "submission.to_csv(\"submission.csv\", index=False)"
      ],
      "metadata": {
        "trusted": true,
        "execution": {
          "iopub.status.busy": "2025-05-24T21:15:14.004772Z",
          "iopub.execute_input": "2025-05-24T21:15:14.005773Z",
          "iopub.status.idle": "2025-05-24T21:15:15.511070Z",
          "shell.execute_reply.started": "2025-05-24T21:15:14.005740Z",
          "shell.execute_reply": "2025-05-24T21:15:15.509820Z"
        },
        "id": "ZljtcAbeUBEt"
      },
      "outputs": [],
      "execution_count": null
    }
  ]
}