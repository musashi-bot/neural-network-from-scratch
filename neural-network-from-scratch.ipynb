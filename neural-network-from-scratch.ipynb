{
  "metadata": {
    "kernelspec": {
      "language": "python",
      "display_name": "Python 3",
      "name": "python3"
    },
    "language_info": {
      "name": "python",
      "version": "3.11.11",
      "mimetype": "text/x-python",
      "codemirror_mode": {
        "name": "ipython",
        "version": 3
      },
      "pygments_lexer": "ipython3",
      "nbconvert_exporter": "python",
      "file_extension": ".py"
    },
    "kaggle": {
      "accelerator": "none",
      "dataSources": [
        {
          "sourceId": 3004,
          "databundleVersionId": 861823,
          "sourceType": "competition"
        }
      ],
      "dockerImageVersionId": 31040,
      "isInternetEnabled": false,
      "language": "python",
      "sourceType": "notebook",
      "isGpuEnabled": false
    },
    "colab": {
      "provenance": []
    }
  },
  "nbformat_minor": 0,
  "nbformat": 4,
  "cells": [
    {
      "cell_type": "code",
      "source": [
        "import numpy as np\n",
        "import pandas as pd\n",
        "from matplotlib import pyplot as plt\n",
        "\n",
        "data = pd.read_csv('/content/sample_data/mnist_test.csv')\n",
        "print(data.head())\n",
        "data=np.array(data)\n",
        "np.random.shuffle(data)\n",
        "train_set=data[:33600,]\n",
        "print(train_set.shape)\n",
        "test_set=data[33600:,]\n",
        "print(test_set.shape)\n"
      ],
      "metadata": {
        "_uuid": "8f2839f25d086af736a60e9eeb907d3b93b6e0e5",
        "_cell_guid": "b1076dfc-b9ad-4769-8c92-a6c4dae69d19",
        "trusted": true,
        "execution": {
          "iopub.status.busy": "2025-05-24T20:59:25.942508Z",
          "iopub.execute_input": "2025-05-24T20:59:25.942823Z",
          "iopub.status.idle": "2025-05-24T20:59:28.915857Z",
          "shell.execute_reply.started": "2025-05-24T20:59:25.942801Z",
          "shell.execute_reply": "2025-05-24T20:59:28.914934Z"
        },
        "colab": {
          "base_uri": "https://localhost:8080/"
        },
        "id": "2HI3kSSZUBEm",
        "outputId": "f642996f-cfa2-43b4-dcab-641485f9905a"
      },
      "outputs": [
        {
          "output_type": "stream",
          "name": "stdout",
          "text": [
            "   7  0  0.1  0.2  0.3  0.4  0.5  0.6  0.7  0.8  ...  0.658  0.659  0.660  \\\n",
            "0  2  0    0    0    0    0    0    0    0    0  ...      0      0      0   \n",
            "1  1  0    0    0    0    0    0    0    0    0  ...      0      0      0   \n",
            "2  0  0    0    0    0    0    0    0    0    0  ...      0      0      0   \n",
            "3  4  0    0    0    0    0    0    0    0    0  ...      0      0      0   \n",
            "4  1  0    0    0    0    0    0    0    0    0  ...      0      0      0   \n",
            "\n",
            "   0.661  0.662  0.663  0.664  0.665  0.666  0.667  \n",
            "0      0      0      0      0      0      0      0  \n",
            "1      0      0      0      0      0      0      0  \n",
            "2      0      0      0      0      0      0      0  \n",
            "3      0      0      0      0      0      0      0  \n",
            "4      0      0      0      0      0      0      0  \n",
            "\n",
            "[5 rows x 785 columns]\n",
            "(9999, 785)\n",
            "(0, 785)\n"
          ]
        }
      ],
      "execution_count": 3
    },
    {
      "cell_type": "code",
      "source": [
        "def one_hot(Y):                                   #one hot coding for labels\n",
        "    one_hot_Y = np.zeros((Y.size, Y.max() + 1))\n",
        "    one_hot_Y[np.arange(Y.size), Y] = 1\n",
        "    one_hot_Y = one_hot_Y.T\n",
        "    return one_hot_Y\n",
        "\n",
        "x_train=train_set[:,1:].T\n",
        "print(x_train.shape)\n",
        "x_train = x_train / 255.0\n",
        "\n",
        "y_train=train_set[:,:1].T\n",
        "y_coded=one_hot(y_train)\n",
        "print(y_coded[:,60])\n",
        "print(y_train[:,60])\n",
        "m=33600"
      ],
      "metadata": {
        "trusted": true,
        "execution": {
          "iopub.status.busy": "2025-05-24T20:59:28.917232Z",
          "iopub.execute_input": "2025-05-24T20:59:28.917559Z",
          "iopub.status.idle": "2025-05-24T20:59:29.042019Z",
          "shell.execute_reply.started": "2025-05-24T20:59:28.917538Z",
          "shell.execute_reply": "2025-05-24T20:59:29.041067Z"
        },
        "colab": {
          "base_uri": "https://localhost:8080/"
        },
        "id": "MHh8Gg7CUBEp",
        "outputId": "ccda69a1-b82f-4063-c3c7-3acc8bab38f1"
      },
      "outputs": [
        {
          "output_type": "stream",
          "name": "stdout",
          "text": [
            "(784, 9999)\n",
            "[0. 0. 0. 0. 1. 0. 0. 0. 0. 0.]\n",
            "[4]\n"
          ]
        }
      ],
      "execution_count": 4
    },
    {
      "cell_type": "code",
      "source": [
        "y_coded.shape"
      ],
      "metadata": {
        "trusted": true,
        "execution": {
          "iopub.status.busy": "2025-05-24T20:59:29.042899Z",
          "iopub.execute_input": "2025-05-24T20:59:29.043213Z",
          "iopub.status.idle": "2025-05-24T20:59:29.049099Z",
          "shell.execute_reply.started": "2025-05-24T20:59:29.043191Z",
          "shell.execute_reply": "2025-05-24T20:59:29.048314Z"
        },
        "colab": {
          "base_uri": "https://localhost:8080/"
        },
        "id": "2bExeVWDUBEq",
        "outputId": "188f6d60-0280-4c44-92ac-b9f49869a06b"
      },
      "outputs": [
        {
          "output_type": "execute_result",
          "data": {
            "text/plain": [
              "(10, 9999)"
            ]
          },
          "metadata": {},
          "execution_count": 5
        }
      ],
      "execution_count": 5
    },
    {
      "cell_type": "code",
      "source": [
        "def init_parameters():\n",
        "    w1=np.random.randn(10, 784) * np.sqrt(2 / 784)\n",
        "    b1=np.random.rand(10,1)-0.5\n",
        "    w2=np.random.randn(10, 10) * np.sqrt(2 / 10)\n",
        "    b2=np.random.rand(10,1)-0.5\n",
        "    w3=np.random.randn(10, 10) * np.sqrt(2 /10)\n",
        "    b3=np.random.rand(10,1)-0.5\n",
        "    return w1,b1,w2,b2,w3,b3\n",
        "\n",
        "def reLU(z):\n",
        "    return np.maximum(z,0)\n",
        "\n",
        "def softmax(Z):\n",
        "    expZ = np.exp(Z - np.max(Z, axis=0, keepdims=True))  # prevent overflow\n",
        "    return expZ / np.sum(expZ, axis=0, keepdims=True)\n",
        "\n",
        "\n",
        "\n",
        "def get_prediction(y_hat):\n",
        "    return np.argmax(y_hat,axis=0)\n",
        "\n",
        "def forward_prop(w1,b1,w2,b2,w3,b3,X):\n",
        "    z1=w1.dot(X)+b1\n",
        "    a1=reLU(z1)\n",
        "    z2=w2.dot(a1)+b2\n",
        "    a2=reLU(z2)\n",
        "    z3=w3.dot(a2)+b3\n",
        "    y_hat=softmax(z3)\n",
        "    return z1,a1,z2,a2,z3,y_hat\n",
        "\n",
        "def reLU_diff(z):\n",
        "    return z>0\n",
        "\n",
        "def back_prop(w1,b1,w2,b2,w3,b3,z1,z2,z3,a1,a2,y_hat,X,Y):\n",
        "    m=X.shape[1]\n",
        "    dz3=y_hat-Y\n",
        "    dw3=(1/m)*(dz3.dot(a2.T))\n",
        "    db3=(1/m)*(np.sum(dz3,axis=1).reshape(-1,1))\n",
        "\n",
        "    dz2=(w3.T).dot(dz3)*(reLU_diff(z2))\n",
        "    dw2=(1/m)*(dz2.dot(a1.T))\n",
        "    db2=(1/m)*(np.sum(dz2,axis=1).reshape(-1,1))\n",
        "\n",
        "    dz1=(w2.T).dot(dz2)*(reLU_diff(z1))\n",
        "    dw1=(1/m)*(dz1.dot(X.T))\n",
        "    db1=(1/m)*(np.sum(dz1,axis=1).reshape(-1,1))\n",
        "\n",
        "    return dw3,db3,dw2,db2,dw1,db1\n",
        "\n",
        "def update(w1,b1,w2,b2,w3,b3,dw3,db3,dw2,db2,dw1,db1,alpha):\n",
        "    w1=w1-alpha*dw1\n",
        "    b1=b1-alpha*db1\n",
        "\n",
        "    w2=w2-alpha*dw2\n",
        "    b2=b2-alpha*db2\n",
        "\n",
        "    w3=w3-alpha*dw3\n",
        "    b3=b3-alpha*db3\n",
        "\n",
        "    return w1,b1,w2,b2,w3,b3\n",
        "\n",
        "def get_accuracy(pred,y):\n",
        "    return np.sum(pred==y)/y.size\n",
        "iter=[]\n",
        "acc=[]\n",
        "def gradient_descent(x,y,alpha,epochs):\n",
        "    y_coded = one_hot(y.flatten())\n",
        "\n",
        "    w1,b1,w2,b2,w3,b3=init_parameters()\n",
        "    for i in range(epochs):\n",
        "        z1,a1,z2,a2,z3,y_hat=forward_prop(w1,b1,w2,b2,w3,b3,x)\n",
        "        dw3,db3,dw2,db2,dw1,db1=back_prop(w1,b1,w2,b2,w3,b3,z1,z2,z3,a1,a2,y_hat,x,y_coded)\n",
        "        w1,b1,w2,b2,w3,b3=update(w1,b1,w2,b2,w3,b3,dw3,db3,dw2,db2,dw1,db1,alpha)\n",
        "        if(i%20==0):\n",
        "            print(\"Iteration no : \",i)\n",
        "            iter.append(i)\n",
        "            pred=get_prediction(y_hat)\n",
        "            accuracy=get_accuracy(pred,y.flatten())*100\n",
        "            acc.append(accuracy)\n",
        "            print(\"accuracy : \",accuracy)\n",
        "\n",
        "    return w1,b1,w2,b2,w3,b3\n",
        "\n",
        "\n",
        ""
      ],
      "metadata": {
        "trusted": true,
        "execution": {
          "iopub.status.busy": "2025-05-24T20:59:29.051105Z",
          "iopub.execute_input": "2025-05-24T20:59:29.051394Z",
          "iopub.status.idle": "2025-05-24T20:59:29.069213Z",
          "shell.execute_reply.started": "2025-05-24T20:59:29.051364Z",
          "shell.execute_reply": "2025-05-24T20:59:29.068110Z"
        },
        "id": "dEliL8y7UBEr"
      },
      "outputs": [],
      "execution_count": 6
    },
    {
      "cell_type": "code",
      "source": [
        "w1,b1,w2,b2,w3,b3=gradient_descent(x_train,y_train,0.05,2000)"
      ],
      "metadata": {
        "trusted": true,
        "execution": {
          "iopub.status.busy": "2025-05-24T20:59:29.070147Z",
          "iopub.execute_input": "2025-05-24T20:59:29.070556Z",
          "iopub.status.idle": "2025-05-24T21:01:49.992824Z",
          "shell.execute_reply.started": "2025-05-24T20:59:29.070523Z",
          "shell.execute_reply": "2025-05-24T21:01:49.991872Z"
        },
        "colab": {
          "base_uri": "https://localhost:8080/"
        },
        "id": "6ybhk8LCUBEr",
        "outputId": "747002c5-b9bc-4fde-a55c-606fa81e78c3"
      },
      "outputs": [
        {
          "output_type": "stream",
          "name": "stdout",
          "text": [
            "Iteration no :  0\n",
            "accuracy :  5.26052605260526\n",
            "Iteration no :  20\n",
            "accuracy :  17.25172517251725\n",
            "Iteration no :  40\n",
            "accuracy :  25.1025102510251\n",
            "Iteration no :  60\n",
            "accuracy :  33.813381338133816\n",
            "Iteration no :  80\n",
            "accuracy :  45.25452545254525\n",
            "Iteration no :  100\n",
            "accuracy :  53.24532453245324\n",
            "Iteration no :  120\n",
            "accuracy :  58.745874587458744\n",
            "Iteration no :  140\n",
            "accuracy :  62.72627262726272\n",
            "Iteration no :  160\n",
            "accuracy :  66.08660866086609\n",
            "Iteration no :  180\n",
            "accuracy :  68.68686868686868\n",
            "Iteration no :  200\n",
            "accuracy :  70.55705570557056\n",
            "Iteration no :  220\n",
            "accuracy :  72.54725472547254\n",
            "Iteration no :  240\n",
            "accuracy :  74.95749574957496\n",
            "Iteration no :  260\n",
            "accuracy :  76.85768576857686\n",
            "Iteration no :  280\n",
            "accuracy :  78.18781878187819\n",
            "Iteration no :  300\n",
            "accuracy :  79.44794479447945\n",
            "Iteration no :  320\n",
            "accuracy :  80.55805580558055\n",
            "Iteration no :  340\n",
            "accuracy :  81.27812781278128\n",
            "Iteration no :  360\n",
            "accuracy :  82.03820382038204\n",
            "Iteration no :  380\n",
            "accuracy :  82.72827282728272\n",
            "Iteration no :  400\n",
            "accuracy :  83.46834683468347\n",
            "Iteration no :  420\n",
            "accuracy :  83.88838883888388\n",
            "Iteration no :  440\n",
            "accuracy :  84.39843984398439\n",
            "Iteration no :  460\n",
            "accuracy :  84.80848084808481\n",
            "Iteration no :  480\n",
            "accuracy :  85.25852585258525\n",
            "Iteration no :  500\n",
            "accuracy :  85.4985498549855\n",
            "Iteration no :  520\n",
            "accuracy :  85.83858385838585\n",
            "Iteration no :  540\n",
            "accuracy :  86.13861386138613\n",
            "Iteration no :  560\n",
            "accuracy :  86.32863286328633\n",
            "Iteration no :  580\n",
            "accuracy :  86.59865986598659\n",
            "Iteration no :  600\n",
            "accuracy :  86.81868186818681\n",
            "Iteration no :  620\n",
            "accuracy :  87.10871087108711\n",
            "Iteration no :  640\n",
            "accuracy :  87.32873287328732\n",
            "Iteration no :  660\n",
            "accuracy :  87.5087508750875\n",
            "Iteration no :  680\n",
            "accuracy :  87.66876687668767\n",
            "Iteration no :  700\n",
            "accuracy :  87.92879287928793\n",
            "Iteration no :  720\n",
            "accuracy :  88.04880488048805\n",
            "Iteration no :  740\n",
            "accuracy :  88.15881588158815\n",
            "Iteration no :  760\n",
            "accuracy :  88.27882788278828\n",
            "Iteration no :  780\n",
            "accuracy :  88.34883488348835\n",
            "Iteration no :  800\n",
            "accuracy :  88.44884488448845\n",
            "Iteration no :  820\n",
            "accuracy :  88.66886688668868\n",
            "Iteration no :  840\n",
            "accuracy :  88.71887188718873\n",
            "Iteration no :  860\n",
            "accuracy :  88.69886988698869\n",
            "Iteration no :  880\n",
            "accuracy :  88.81888188818881\n",
            "Iteration no :  900\n",
            "accuracy :  88.96889688968896\n",
            "Iteration no :  920\n",
            "accuracy :  89.12891289128912\n",
            "Iteration no :  940\n",
            "accuracy :  89.35893589358936\n",
            "Iteration no :  960\n",
            "accuracy :  89.52895289528952\n",
            "Iteration no :  980\n",
            "accuracy :  89.61896189618962\n",
            "Iteration no :  1000\n",
            "accuracy :  89.7989798979898\n",
            "Iteration no :  1020\n",
            "accuracy :  89.97899789978999\n",
            "Iteration no :  1040\n",
            "accuracy :  90.14901490149015\n",
            "Iteration no :  1060\n",
            "accuracy :  90.31903190319032\n",
            "Iteration no :  1080\n",
            "accuracy :  90.44904490449045\n",
            "Iteration no :  1100\n",
            "accuracy :  90.52905290529053\n",
            "Iteration no :  1120\n",
            "accuracy :  90.66906690669066\n",
            "Iteration no :  1140\n",
            "accuracy :  90.77907790779078\n",
            "Iteration no :  1160\n",
            "accuracy :  90.8890889088909\n",
            "Iteration no :  1180\n",
            "accuracy :  90.97909790979098\n",
            "Iteration no :  1200\n",
            "accuracy :  91.03910391039103\n",
            "Iteration no :  1220\n",
            "accuracy :  91.10911091109111\n",
            "Iteration no :  1240\n",
            "accuracy :  91.23912391239124\n",
            "Iteration no :  1260\n",
            "accuracy :  91.32913291329133\n",
            "Iteration no :  1280\n",
            "accuracy :  91.46914691469146\n",
            "Iteration no :  1300\n",
            "accuracy :  91.50915091509151\n",
            "Iteration no :  1320\n",
            "accuracy :  91.53915391539154\n",
            "Iteration no :  1340\n",
            "accuracy :  91.60916091609161\n",
            "Iteration no :  1360\n",
            "accuracy :  91.73917391739174\n",
            "Iteration no :  1380\n",
            "accuracy :  91.84918491849184\n",
            "Iteration no :  1400\n",
            "accuracy :  91.99919991999201\n",
            "Iteration no :  1420\n",
            "accuracy :  92.11921192119212\n",
            "Iteration no :  1440\n",
            "accuracy :  92.15921592159216\n",
            "Iteration no :  1460\n",
            "accuracy :  92.19921992199221\n",
            "Iteration no :  1480\n",
            "accuracy :  92.2092209220922\n",
            "Iteration no :  1500\n",
            "accuracy :  92.26922692269227\n",
            "Iteration no :  1520\n",
            "accuracy :  92.32923292329232\n",
            "Iteration no :  1540\n",
            "accuracy :  92.38923892389239\n",
            "Iteration no :  1560\n",
            "accuracy :  92.43924392439244\n",
            "Iteration no :  1580\n",
            "accuracy :  92.44924492449245\n",
            "Iteration no :  1600\n",
            "accuracy :  92.51925192519252\n",
            "Iteration no :  1620\n",
            "accuracy :  92.5892589258926\n",
            "Iteration no :  1640\n",
            "accuracy :  92.63926392639263\n",
            "Iteration no :  1660\n",
            "accuracy :  92.65926592659267\n",
            "Iteration no :  1680\n",
            "accuracy :  92.65926592659267\n",
            "Iteration no :  1700\n",
            "accuracy :  92.73927392739274\n",
            "Iteration no :  1720\n",
            "accuracy :  92.77927792779278\n",
            "Iteration no :  1740\n",
            "accuracy :  92.82928292829283\n",
            "Iteration no :  1760\n",
            "accuracy :  92.8992899289929\n",
            "Iteration no :  1780\n",
            "accuracy :  92.95929592959295\n",
            "Iteration no :  1800\n",
            "accuracy :  93.07930793079308\n",
            "Iteration no :  1820\n",
            "accuracy :  93.10931093109312\n",
            "Iteration no :  1840\n",
            "accuracy :  93.1893189318932\n",
            "Iteration no :  1860\n",
            "accuracy :  93.1893189318932\n",
            "Iteration no :  1880\n",
            "accuracy :  93.23932393239323\n",
            "Iteration no :  1900\n",
            "accuracy :  93.28932893289328\n",
            "Iteration no :  1920\n",
            "accuracy :  93.2993299329933\n",
            "Iteration no :  1940\n",
            "accuracy :  93.34933493349334\n",
            "Iteration no :  1960\n",
            "accuracy :  93.3993399339934\n",
            "Iteration no :  1980\n",
            "accuracy :  93.41934193419343\n"
          ]
        }
      ],
      "execution_count": 7
    },
    {
      "cell_type": "code",
      "source": [
        "plt.plot(iter,acc)\n",
        "plt.xlabel(\"iteration number\")\n",
        "plt.ylabel(\"Accuracy %\")\n",
        "plt.show()"
      ],
      "metadata": {
        "id": "nxP7rwFeUxil",
        "outputId": "1c6db30d-514b-4c6c-fc7f-7db10d169edf",
        "colab": {
          "base_uri": "https://localhost:8080/",
          "height": 449
        }
      },
      "execution_count": 8,
      "outputs": [
        {
          "output_type": "display_data",
          "data": {
            "text/plain": [
              "<Figure size 640x480 with 1 Axes>"
            ],
            "image/png": "[encoded data removed]"
          },
          "metadata": {}
        }
      ]
    },
    {
      "cell_type": "code",
      "source": [
        "x_test = test_set[:,1:].T / 255.0\n",
        "y_test = test_set[:, :1].T\n",
        "z1,a1,z2,a2,z3,y_hat = forward_prop(w1,b1,w2,b2,w3,b3,x_test)\n",
        "pred_test = get_prediction(y_hat)\n",
        "acc_test = get_accuracy(pred_test, y_test)\n",
        "print(\"Test accuracy:\", acc_test * 100)\n"
      ],
      "metadata": {
        "trusted": true,
        "execution": {
          "iopub.status.busy": "2025-05-24T21:01:49.993967Z",
          "iopub.execute_input": "2025-05-24T21:01:49.994313Z",
          "iopub.status.idle": "2025-05-24T21:01:50.042522Z",
          "shell.execute_reply.started": "2025-05-24T21:01:49.994284Z",
          "shell.execute_reply": "2025-05-24T21:01:50.041711Z"
        },
        "id": "OH8nNlYEUBEs",
        "outputId": "4170a898-15a1-4c82-9c77-307651832979"
      },
      "outputs": [
        {
          "name": "stdout",
          "text": "Test accuracy: 92.46428571428571\n",
          "output_type": "stream"
        }
      ],
      "execution_count": null
    },
    {
      "cell_type": "code",
      "source": [],
      "metadata": {
        "id": "9Y4y4lv3XgTN"
      },
      "execution_count": null,
      "outputs": []
    },
    {
      "cell_type": "code",
      "source": [
        "test_data = pd.read_csv('/kaggle/input/digit-recognizer/test.csv')\n",
        "x_test = np.array(test_data).T / 255.0  # Transpose and normalize\n",
        "*_, y_hat_test = forward_prop(w1, b1, w2, b2, w3, b3, x_test)\n",
        "predictions = np.array(get_prediction(y_hat_test))\n",
        "\n",
        "\n",
        "submission = pd.DataFrame({\n",
        "    \"ImageId\": np.arange(1, len(predictions) + 1),\n",
        "    \"Label\": predictions\n",
        "})\n",
        "\n",
        "\n",
        "submission.to_csv(\"submission.csv\", index=False)"
      ],
      "metadata": {
        "trusted": true,
        "execution": {
          "iopub.status.busy": "2025-05-24T21:15:14.004772Z",
          "iopub.execute_input": "2025-05-24T21:15:14.005773Z",
          "iopub.status.idle": "2025-05-24T21:15:15.511070Z",
          "shell.execute_reply.started": "2025-05-24T21:15:14.005740Z",
          "shell.execute_reply": "2025-05-24T21:15:15.509820Z"
        },
        "id": "ZljtcAbeUBEt"
      },
      "outputs": [],
      "execution_count": null
    }
  ]
}